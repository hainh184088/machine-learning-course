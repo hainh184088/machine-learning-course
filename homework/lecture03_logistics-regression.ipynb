{
 "cells": [
  {
   "cell_type": "markdown",
   "metadata": {},
   "source": [
    "# Homework 3: Logistics Regression\n",
    "Implement everywhere that has an ellipsis (`...`)."
   ]
  },
  {
   "cell_type": "code",
   "execution_count": 1,
   "metadata": {},
   "outputs": [],
   "source": [
    "import numpy as np"
   ]
  },
  {
   "cell_type": "markdown",
   "metadata": {},
   "source": [
    "### Load dataset"
   ]
  },
  {
   "cell_type": "code",
   "execution_count": 2,
   "metadata": {},
   "outputs": [
    {
     "name": "stdout",
     "output_type": "stream",
     "text": [
      "(150, 4) (150,)\n"
     ]
    }
   ],
   "source": [
    "from sklearn.datasets import load_iris\n",
    "data = load_iris()\n",
    "X, Y = data.data, data.target\n",
    "print(X.shape,Y.shape)\n"
   ]
  },
  {
   "cell_type": "code",
   "execution_count": 3,
   "metadata": {},
   "outputs": [],
   "source": [
    "# only classify class 1 vs. class 2\n",
    "index = np.where(Y == 0)\n",
    "Y = np.delete(Y,index)\n",
    "for i in index:\n",
    "    X = np.delete(X,(i),axis = 0)\n",
    "# idxs = Y > 0\n",
    "# X = X[idxs, :]\n",
    "# Y = Y[idxs]"
   ]
  },
  {
   "cell_type": "code",
   "execution_count": null,
   "metadata": {
    "scrolled": true
   },
   "outputs": [],
   "source": [
    "idxs = Y > 0\n",
    "A = X[idxs, :]\n",
    "B = Y[idxs]\n",
    "x_mean = np.mean(A, axis = 0)\n",
    "x_std = np.std(A, axis = 0)\n",
    "A = (A - x_mean)/x_std\n",
    "B -= 1\n",
    "# X = np.concatenate((np.ones((1, X.shape[1])), X), axis = 0)\n",
    "A = np.hstack([np.ones((A.shape[0], 1)), A])\n",
    "print(B)\n",
    "print(A)"
   ]
  },
  {
   "cell_type": "markdown",
   "metadata": {},
   "source": [
    "### Data normalization\n",
    "Remember: normalization is done per feature, not all at once. Also, remember that Y is [1, 2] instead of [0, 1]."
   ]
  },
  {
   "cell_type": "code",
   "execution_count": 4,
   "metadata": {
    "scrolled": true
   },
   "outputs": [
    {
     "name": "stdout",
     "output_type": "stream",
     "text": [
      "[0 0 0 0 0 0 0 0 0 0 0 0 0 0 0 0 0 0 0 0 0 0 0 0 0 0 0 0 0 0 0 0 0 0 0 0 0\n",
      " 0 0 0 0 0 0 0 0 0 0 0 0 0 1 1 1 1 1 1 1 1 1 1 1 1 1 1 1 1 1 1 1 1 1 1 1 1\n",
      " 1 1 1 1 1 1 1 1 1 1 1 1 1 1 1 1 1 1 1 1 1 1 1 1 1 1]\n",
      "[[ 1.          1.11900931  0.99068792 -0.25077906 -0.65303909]\n",
      " [ 1.          0.20924564  0.99068792 -0.49425387 -0.41643072]\n",
      " [ 1.          0.96738203  0.68864892 -0.00730424 -0.41643072]\n",
      " [ 1.         -1.15539985 -1.72766308 -1.10294091 -0.88964745]\n",
      " [ 1.          0.36087292 -0.21746808 -0.37251647 -0.41643072]\n",
      " [ 1.         -0.8521453  -0.21746808 -0.49425387 -0.88964745]\n",
      " [ 1.          0.05761837  1.29272692 -0.25077906 -0.17982236]\n",
      " [ 1.         -2.06516352 -1.42562408 -1.95510276 -1.59947255]\n",
      " [ 1.          0.5125002   0.08457092 -0.37251647 -0.88964745]\n",
      " [ 1.         -1.61028169 -0.51950708 -1.22467832 -0.65303909]\n",
      " [ 1.         -1.91353624 -2.63378009 -1.71162795 -1.59947255]\n",
      " [ 1.         -0.54889074  0.38660992 -0.8594661  -0.41643072]\n",
      " [ 1.         -0.39726347 -2.02970209 -1.10294091 -1.59947255]\n",
      " [ 1.         -0.24563619  0.08457092 -0.25077906 -0.65303909]\n",
      " [ 1.         -1.00377258  0.08457092 -1.58989054 -0.88964745]\n",
      " [ 1.          0.66412748  0.68864892 -0.61599128 -0.65303909]\n",
      " [ 1.         -1.00377258  0.38660992 -0.49425387 -0.41643072]\n",
      " [ 1.         -0.70051802 -0.51950708 -0.9812035  -1.59947255]\n",
      " [ 1.         -0.09400891 -2.02970209 -0.49425387 -0.41643072]\n",
      " [ 1.         -1.00377258 -1.12358508 -1.22467832 -1.36286418]\n",
      " [ 1.         -0.54889074  0.99068792 -0.12904165  0.29339437]\n",
      " [ 1.         -0.24563619 -0.21746808 -1.10294091 -0.88964745]\n",
      " [ 1.          0.05761837 -1.12358508 -0.00730424 -0.41643072]\n",
      " [ 1.         -0.24563619 -0.21746808 -0.25077906 -1.12625582]\n",
      " [ 1.          0.20924564  0.08457092 -0.73772869 -0.88964745]\n",
      " [ 1.          0.5125002   0.38660992 -0.61599128 -0.65303909]\n",
      " [ 1.          0.81575475 -0.21746808 -0.12904165 -0.65303909]\n",
      " [ 1.          0.66412748  0.38660992  0.11443316  0.05678601]\n",
      " [ 1.         -0.39726347  0.08457092 -0.49425387 -0.41643072]\n",
      " [ 1.         -0.8521453  -0.82154608 -1.71162795 -1.59947255]\n",
      " [ 1.         -1.15539985 -1.42562408 -1.34641572 -1.36286418]\n",
      " [ 1.         -1.15539985 -1.42562408 -1.46815313 -1.59947255]\n",
      " [ 1.         -0.70051802 -0.51950708 -1.22467832 -1.12625582]\n",
      " [ 1.         -0.39726347 -0.51950708  0.23617057 -0.17982236]\n",
      " [ 1.         -1.30702713  0.38660992 -0.49425387 -0.41643072]\n",
      " [ 1.         -0.39726347  1.59476592 -0.49425387 -0.17982236]\n",
      " [ 1.          0.66412748  0.68864892 -0.25077906 -0.41643072]\n",
      " [ 1.          0.05761837 -1.72766308 -0.61599128 -0.88964745]\n",
      " [ 1.         -1.00377258  0.38660992 -0.9812035  -0.88964745]\n",
      " [ 1.         -1.15539985 -1.12358508 -1.10294091 -0.88964745]\n",
      " [ 1.         -1.15539985 -0.82154608 -0.61599128 -1.12625582]\n",
      " [ 1.         -0.24563619  0.38660992 -0.37251647 -0.65303909]\n",
      " [ 1.         -0.70051802 -0.82154608 -1.10294091 -1.12625582]\n",
      " [ 1.         -1.91353624 -1.72766308 -1.95510276 -1.59947255]\n",
      " [ 1.         -1.00377258 -0.51950708 -0.8594661  -0.88964745]\n",
      " [ 1.         -0.8521453   0.38660992 -0.8594661  -1.12625582]\n",
      " [ 1.         -0.8521453   0.08457092 -0.8594661  -0.88964745]\n",
      " [ 1.         -0.09400891  0.08457092 -0.73772869 -0.88964745]\n",
      " [ 1.         -1.76190896 -1.12358508 -2.32031498 -1.36286418]\n",
      " [ 1.         -0.8521453  -0.21746808 -0.9812035  -0.88964745]\n",
      " [ 1.          0.05761837  1.29272692  1.33180724  1.94965293]\n",
      " [ 1.         -0.70051802 -0.51950708  0.23617057  0.53000274]\n",
      " [ 1.          1.27063658  0.38660992  1.21006983  1.00321947]\n",
      " [ 1.          0.05761837  0.08457092  0.84485761  0.29339437]\n",
      " [ 1.          0.36087292  0.38660992  1.08833242  1.23982783]\n",
      " [ 1.          2.02877297  0.38660992  2.06223168  1.00321947]\n",
      " [ 1.         -2.06516352 -1.12358508 -0.49425387  0.05678601]\n",
      " [ 1.          1.57389114  0.08457092  1.69701946  0.29339437]\n",
      " [ 1.          0.66412748 -1.12358508  1.08833242  0.29339437]\n",
      " [ 1.          1.42226386  2.19884393  1.45354464  1.94965293]\n",
      " [ 1.          0.36087292  0.99068792  0.23617057  0.7666111 ]\n",
      " [ 1.          0.20924564 -0.51950708  0.47964538  0.53000274]\n",
      " [ 1.          0.81575475  0.38660992  0.7231202   1.00321947]\n",
      " [ 1.         -0.8521453  -1.12358508  0.11443316  0.7666111 ]\n",
      " [ 1.         -0.70051802 -0.21746808  0.23617057  1.71304456]\n",
      " [ 1.          0.20924564  0.99068792  0.47964538  1.4764362 ]\n",
      " [ 1.          0.36087292  0.38660992  0.7231202   0.29339437]\n",
      " [ 1.          2.18040025  2.80292193  2.18396909  1.23982783]\n",
      " [ 1.          2.18040025 -0.82154608  2.4274439   1.4764362 ]\n",
      " [ 1.         -0.39726347 -2.02970209  0.11443316 -0.41643072]\n",
      " [ 1.          0.96738203  0.99068792  0.96659501  1.4764362 ]\n",
      " [ 1.         -1.00377258 -0.21746808 -0.00730424  0.7666111 ]\n",
      " [ 1.          2.18040025 -0.21746808  2.18396909  0.7666111 ]\n",
      " [ 1.          0.05761837 -0.51950708 -0.00730424  0.29339437]\n",
      " [ 1.          0.66412748  1.29272692  0.96659501  1.00321947]\n",
      " [ 1.          1.42226386  0.99068792  1.33180724  0.29339437]\n",
      " [ 1.         -0.09400891 -0.21746808 -0.12904165  0.29339437]\n",
      " [ 1.         -0.24563619  0.38660992 -0.00730424  0.29339437]\n",
      " [ 1.          0.20924564 -0.21746808  0.84485761  1.00321947]\n",
      " [ 1.          1.42226386  0.38660992  1.08833242 -0.17982236]\n",
      " [ 1.          1.72551842 -0.21746808  1.45354464  0.53000274]\n",
      " [ 1.          2.4836548   2.80292193  1.81875686  0.7666111 ]\n",
      " [ 1.          0.20924564 -0.21746808  0.84485761  1.23982783]\n",
      " [ 1.          0.05761837 -0.21746808  0.23617057 -0.41643072]\n",
      " [ 1.         -0.24563619 -0.82154608  0.84485761 -0.65303909]\n",
      " [ 1.          2.18040025  0.38660992  1.45354464  1.4764362 ]\n",
      " [ 1.          0.05761837  1.59476592  0.84485761  1.71304456]\n",
      " [ 1.          0.20924564  0.68864892  0.7231202   0.29339437]\n",
      " [ 1.         -0.39726347  0.38660992 -0.12904165  0.29339437]\n",
      " [ 1.          0.96738203  0.68864892  0.60138279  1.00321947]\n",
      " [ 1.          0.66412748  0.68864892  0.84485761  1.71304456]\n",
      " [ 1.          0.96738203  0.68864892  0.23617057  1.4764362 ]\n",
      " [ 1.         -0.70051802 -0.51950708  0.23617057  0.53000274]\n",
      " [ 1.          0.81575475  0.99068792  1.21006983  1.4764362 ]\n",
      " [ 1.          0.66412748  1.29272692  0.96659501  1.94965293]\n",
      " [ 1.          0.66412748  0.38660992  0.35790798  1.4764362 ]\n",
      " [ 1.          0.05761837 -1.12358508  0.11443316  0.53000274]\n",
      " [ 1.          0.36087292  0.38660992  0.35790798  0.7666111 ]\n",
      " [ 1.         -0.09400891  1.59476592  0.60138279  1.4764362 ]\n",
      " [ 1.         -0.54889074  0.38660992  0.23617057  0.29339437]]\n"
     ]
    }
   ],
   "source": [
    "x_mean = np.mean(X, axis = 0)\n",
    "x_std = np.std(X, axis = 0)\n",
    "X = (X - x_mean)/x_std\n",
    "Y -= 1\n",
    "# X = np.concatenate((np.ones((1, X.shape[1])), X), axis = 0)\n",
    "X = np.hstack([np.ones((X.shape[0], 1)), X])\n",
    "print(Y)\n",
    "print(X)"
   ]
  },
  {
   "cell_type": "code",
   "execution_count": null,
   "metadata": {},
   "outputs": [],
   "source": [
    "pham.thi.hong.anh@sun-asterisk.com"
   ]
  },
  {
   "cell_type": "code",
   "execution_count": null,
   "metadata": {},
   "outputs": [],
   "source": [
    "np.array_equiv(A,X)"
   ]
  },
  {
   "cell_type": "markdown",
   "metadata": {},
   "source": [
    "### Define classification model\n",
    "Create parameters here. Initialize with zeros. In case you forgot: $Y = \\sigma(X\\Theta)$."
   ]
  },
  {
   "cell_type": "code",
   "execution_count": 5,
   "metadata": {},
   "outputs": [],
   "source": [
    "weight = np.zeros((X.shape[1]))"
   ]
  },
  {
   "cell_type": "markdown",
   "metadata": {},
   "source": [
    "### Define evaluation metrics"
   ]
  },
  {
   "cell_type": "code",
   "execution_count": 6,
   "metadata": {},
   "outputs": [],
   "source": [
    "def accuracy(X, Y, weight):\n",
    "    '''\n",
    "    Evaluate the model, represented by `weight`, with data (X, Y).\n",
    "    \n",
    "    Input:\n",
    "        X:      data features\n",
    "        Y:      data labels\n",
    "        weight: model weights\n",
    "    Ouput:\n",
    "        Model accuracy on input data.\n",
    "    '''\n",
    "    result = (X @ weight > 0) == Y\n",
    "    return np.sum(result) / result.size\n",
    "    "
   ]
  },
  {
   "cell_type": "markdown",
   "metadata": {},
   "source": [
    "### Hyperparameters"
   ]
  },
  {
   "cell_type": "code",
   "execution_count": 7,
   "metadata": {},
   "outputs": [],
   "source": [
    "# learning rate\n",
    "alpha = 1e-2\n",
    "# epochs\n",
    "epoch = 10000"
   ]
  },
  {
   "cell_type": "markdown",
   "metadata": {},
   "source": [
    "### Train the model."
   ]
  },
  {
   "cell_type": "code",
   "execution_count": 8,
   "metadata": {
    "tags": []
   },
   "outputs": [
    {
     "name": "stdout",
     "output_type": "stream",
     "text": [
      "[ 0.12047504 -0.44156746 -0.89309501  2.965364    3.3427994 ]\n"
     ]
    }
   ],
   "source": [
    "def sigmoid(X, weight):\n",
    "    return 1 / (1 + np.exp(-X @ weight))\n",
    "def loss(X, Y, sigmoid):\n",
    "    sigmoid = sigmoid(X,weight)\n",
    "    return -np.sum(Y * np.log(sigmoid),(1-Y) * np.log(1-sigmoid))/ sigmoid.size\n",
    "for ep in range(0, epoch):\n",
    "    loss = loss(X, Y, sigmoid)\n",
    "    gradient = X.T @ (sigmoid(X,weight) - Y) / sigmoid(X, weight).size\n",
    "    weight -= alpha * gradient\n",
    "    acc = accuracy(X, Y, weight)\n",
    "\n",
    "print(weight)"
   ]
  },
  {
   "cell_type": "code",
   "execution_count": 9,
   "metadata": {},
   "outputs": [],
   "source": [
    "# just to double check\n",
    "assert np.allclose(weight, np.array([0.12047504, -0.44156746, -0.89309501, 2.965364, 3.3427994]))"
   ]
  },
  {
   "cell_type": "code",
   "execution_count": 10,
   "metadata": {},
   "outputs": [
    {
     "data": {
      "text/plain": [
       "0.96"
      ]
     },
     "execution_count": 10,
     "metadata": {},
     "output_type": "execute_result"
    }
   ],
   "source": [
    "# model accuracy\n",
    "accuracy(X, Y, weight)"
   ]
  },
  {
   "cell_type": "markdown",
   "metadata": {},
   "source": [
    "### (Optional) How low can you go?\n",
    "Do anything you want to get the best performance out of the training set. For once, let's overfit to your heart's content."
   ]
  },
  {
   "cell_type": "code",
   "execution_count": null,
   "metadata": {},
   "outputs": [],
   "source": [
    "# do some fun code here and try to match this :)\n",
    "..."
   ]
  },
  {
   "cell_type": "code",
   "execution_count": null,
   "metadata": {},
   "outputs": [],
   "source": [
    "print('Weights:', weight)\n",
    "y = 1 / (1 + np.exp(-X @ weight))\n",
    "loss = -np.sum(Y * np.log(y) + (1 - Y) * np.log(1 - y)) / y.size\n",
    "print('Loss:', loss)\n",
    "print('Accuracy:', accuracy(X, Y, weight))"
   ]
  }
 ],
 "metadata": {
  "kernelspec": {
   "display_name": "Python 3",
   "language": "python",
   "name": "python3"
  },
  "language_info": {
   "codemirror_mode": {
    "name": "ipython",
    "version": 3
   },
   "file_extension": ".py",
   "mimetype": "text/x-python",
   "name": "python",
   "nbconvert_exporter": "python",
   "pygments_lexer": "ipython3",
   "version": "3.8.3"
  }
 },
 "nbformat": 4,
 "nbformat_minor": 4
}
